{
 "cells": [
  {
   "cell_type": "markdown",
   "metadata": {},
   "source": [
    "Processing drug network with 11 phases using centrality measures"
   ]
  },
  {
   "cell_type": "code",
   "execution_count": 1,
   "metadata": {},
   "outputs": [],
   "source": [
    "from scipy import stats\n",
    "import numpy as np\n",
    "import matplotlib.pyplot as plt\n",
    "import pandas as pd\n",
    "import os\n",
    "import networkx as nx\n",
    "from tabulate import tabulate"
   ]
  },
  {
   "cell_type": "code",
   "execution_count": 2,
   "metadata": {},
   "outputs": [],
   "source": [
    "directory = '/Volumes/My Passport for Mac/IDS/pset2/problem_set_2_data_and_materials/CAVIAR'"
   ]
  },
  {
   "cell_type": "code",
   "execution_count": 3,
   "metadata": {},
   "outputs": [],
   "source": [
    "phases = []\n",
    "for filename in os.listdir(directory):\n",
    "    data = pd.read_csv(os.path.join(directory, filename))\n",
    "    phases.append((filename, data.to_numpy()))"
   ]
  },
  {
   "cell_type": "code",
   "execution_count": 4,
   "metadata": {},
   "outputs": [],
   "source": [
    "phase_nums = []\n",
    "for i in phases:\n",
    "    phase = ''\n",
    "    for j in i[0]:\n",
    "        if j.isdigit():\n",
    "            phase += j\n",
    "    phase_nums.append(int(phase))"
   ]
  },
  {
   "cell_type": "code",
   "execution_count": 13,
   "metadata": {},
   "outputs": [],
   "source": [
    "#return ids, graph for phase n\n",
    "def get_phase(n):\n",
    "    phase = phases[phase_nums.index(n)][1]\n",
    "    return phase[:, 0], phase[:, 1:]"
   ]
  },
  {
   "cell_type": "code",
   "execution_count": 46,
   "metadata": {},
   "outputs": [
    {
     "name": "stdout",
     "output_type": "stream",
     "text": [
      "[6 0 0 0 0 0 2 0 0 0 0 0 0 0 0]\n",
      "[31  0  0  0  0  0  0  0  0  0  0  0  0  1  0  1  0  0  0  0  0  0  0  0]\n",
      "[30  0  0  0  0  0  0  0  4  0  4  0  0  1  0  0  0  0  0  5  0  0  1  0\n",
      "  0  1  0  0  2  0  0  2  0]\n",
      "[80  0  0  0  0  0  0  5  1  0  0  0  0  1  0  0  6  0  0  0  0  0  0  0\n",
      "  0  0  0  7  3  0  0  0  0]\n",
      "[27  0  0  0  0  0  0  1  0  0  0  0  0  0  0  0  2  0  0  0  0  0  4  5\n",
      "  0  0  0  0  0  0  0  0]\n",
      "[91  0  1  0  3  1  2  0  2 12  3  0  0  0  0 49  1  0  0  0  0  1  0  3\n",
      "  1  0  1]\n",
      "[88  0  4  0  0  1  4  0 12  1  0  0  0  0  0  0  0  0  0  0  1  0  2  2\n",
      "  0  0  3  0  0  0  0  0  0  0  0  0]\n",
      "[82  0  0  0 11  1  1  0  6  1  0  2  0  1  0  0  0  2  0  0  0  1  0  0\n",
      "  0  4  0  3  0  0  0  0  0  0  0  0  9  0  0  0  0  0]\n",
      "[ 1  1  0  0  0 22  1  1  1  0 12  4  0  0  2  0  0  0  2  0 42  0  0  0\n",
      "  0  0  0  0  0  0  0  0  0  0]\n",
      "[5 0 0 0 0 0 0 0 0 0 0 0 0 0 0 0 0 0 0 0 0 0 0 0 0 0 0 0 0 0 0 0 0 0 0 0 0\n",
      " 0 0 0 0 0]\n",
      "[0 0 0 0 0 0 0 0 0 0 3 0 0 0 0 0 0 0 0 0 0 0 0 0 0 0 0 0 0 0 0 0 0 0 0 0 0\n",
      " 0 0 0 0]\n"
     ]
    }
   ],
   "source": [
    "# View communication involving a specific person (with id_num)\n",
    "id_num = 12\n",
    "for i in range(1, 12):\n",
    "    l, p = get_phase(i)\n",
    "    n = -1\n",
    "    for j in range(l.shape[0]):\n",
    "        if l[j] == id_num:\n",
    "            n = j\n",
    "    phase_und = p.T + p\n",
    "    degrees = np.sum(phase_und, axis = 0)\n",
    "    if n != -1:\n",
    "        print(phase_und[n, :])"
   ]
  },
  {
   "cell_type": "code",
   "execution_count": 15,
   "metadata": {},
   "outputs": [],
   "source": [
    "#returns degrees, betweenness, eigen for a given phase\n",
    "def get_cents(phase):\n",
    "    phase_und = phase.T + phase\n",
    "    length = phase_und.shape[0]\n",
    "    degrees = np.sum(phase_und, axis = 0)\n",
    "    \n",
    "    netx_graph = nx.from_numpy_matrix(phase1_und)\n",
    "    \n",
    "    between_cent = nx.betweenness_centrality(netx_graph)\n",
    "    between = np.zeros((length,))\n",
    "    for i in between_cent:\n",
    "        between[i] = between_cent[i]\n",
    "\n",
    "    eigen_cent = nx.eigenvector_centrality(netx_graph)\n",
    "    eigen = np.zeros((length,))\n",
    "    for i in eigen_cent:\n",
    "        eigen[i] = eigen_cent[i]\n",
    "    return degrees, between, eigen"
   ]
  },
  {
   "cell_type": "code",
   "execution_count": 16,
   "metadata": {},
   "outputs": [
    {
     "name": "stdout",
     "output_type": "stream",
     "text": [
      "23\n"
     ]
    }
   ],
   "source": [
    "# List of the important players in the network\n",
    "important = [1, 3, 83, 86, 85, 6, 11, 88, 106, 89, 84, 5, 8, 76, 77, 87, 82, 96, 12, 17, 80, 33, 16]"
   ]
  },
  {
   "cell_type": "code",
   "execution_count": 17,
   "metadata": {},
   "outputs": [],
   "source": [
    "# Calculate degree, and betweenness and eigenvector centralities for the important players\n",
    "important_traits = []\n",
    "for j in range(1, 12):\n",
    "    phase_traits = [[] for i in range(len(important))]\n",
    "    labels, phase = get_phase(j)\n",
    "    degrees, between, eigen = get_cents(phase)\n",
    "    for i in range(labels.shape[0]):\n",
    "        if labels[i] in important:\n",
    "            ind = important.index(labels[i])\n",
    "            phase_traits[ind] = ([degrees[i], between[i], eigen[i]])\n",
    "    important_traits.append(phase_traits)"
   ]
  },
  {
   "cell_type": "code",
   "execution_count": 18,
   "metadata": {},
   "outputs": [
    {
     "name": "stdout",
     "output_type": "stream",
     "text": [
      "[35, 0.9065934065934067, 0.6264507675831664] \n",
      "\n",
      "[109, 0.9065934065934067, 0.6264507675831664] \n",
      "\n",
      "[217, 0.9065934065934067, 0.6264507675831664] \n",
      "\n",
      "[329, 0.9065934065934067, 0.6264507675831664] \n",
      "\n",
      "[125, 0.9065934065934067, 0.6264507675831664] \n",
      "\n",
      "[453, 0.9065934065934067, 0.6264507675831664] \n",
      "\n",
      "[291, 0.9065934065934067, 0.6264507675831664] \n",
      "\n",
      "[183, 0.9065934065934067, 0.6264507675831664] \n",
      "\n",
      "[95, 0.9065934065934067, 0.6264507675831664] \n",
      "\n",
      "[118, 0.9065934065934067, 0.6264507675831664] \n",
      "\n",
      "[37, 0.9065934065934067, 0.6264507675831664] \n",
      "\n"
     ]
    }
   ],
   "source": [
    "for i in important_traits:\n",
    "    print(i[0], '\\n')"
   ]
  },
  {
   "cell_type": "code",
   "execution_count": 19,
   "metadata": {},
   "outputs": [
    {
     "data": {
      "text/plain": [
       "<matplotlib.table.Table at 0x114874668>"
      ]
     },
     "execution_count": 19,
     "metadata": {},
     "output_type": "execute_result"
    },
    {
     "data": {
      "image/png": "[encoded data removed]",
      "text/plain": [
       "<matplotlib.figure.Figure at 0x105047a58>"
      ]
     },
     "metadata": {},
     "output_type": "display_data"
    }
   ],
   "source": [
    "# Create tables of the values\n",
    "data = []\n",
    "for i in important_traits[10]:\n",
    "    a = []\n",
    "    for j in i:\n",
    "        try:\n",
    "            a.append(round(1000 * j) / 1000)\n",
    "        except:\n",
    "            a.append(-1)\n",
    "    data.append(a)\n",
    "ax = plt.subplot(111, frame_on=False) # no visible frame\n",
    "ax.xaxis.set_visible(False)  # hide the x axis\n",
    "ax.yaxis.set_visible(False)  # hide the y axis\n",
    "pd.plotting.table(ax, pd.DataFrame(data), rowLabels=important, colLabels = ['Degree', 'Betweenness Centrality', 'Eigenvector Centrality'])  # where df is your data frame\n"
   ]
  },
  {
   "cell_type": "code",
   "execution_count": 20,
   "metadata": {},
   "outputs": [],
   "source": [
    "# Average centrality measures over time\n",
    "avg_deg = [0 for i in range(23)]\n",
    "avg_bet = [0 for i in range(23)]\n",
    "avg_eig = [0 for i in range(23)]\n",
    "for i in important_traits:\n",
    "    for j in range(len(i)):\n",
    "        try:\n",
    "            avg_deg[j] += i[j][0]\n",
    "            avg_bet[j] += i[j][1]\n",
    "            avg_eig[j] += i[j][2]\n",
    "        except:\n",
    "            pass\n",
    "avg_deg = [i / 11 for i in avg_deg]\n",
    "avg_bet = [i / 11 for i in avg_bet]\n",
    "avg_eig = [i / 11 for i in avg_eig]"
   ]
  },
  {
   "cell_type": "code",
   "execution_count": 21,
   "metadata": {},
   "outputs": [
    {
     "name": "stdout",
     "output_type": "stream",
     "text": [
      "[181.0909090909091, 67.54545454545455, 15.909090909090908, 7.909090909090909, 26.181818181818183, 7.454545454545454, 14.0, 3.8181818181818183, 0.18181818181818182, 5.0, 3.727272727272727, 11.0, 8.454545454545455, 24.636363636363637, 4.454545454545454, 26.09090909090909, 16.545454545454547, 3.090909090909091, 51.0, 6.363636363636363, 0.09090909090909091, 0.09090909090909091, 11.818181818181818] \n",
      "\n",
      "[0.9065934065934068, 0.03296703296703297, 0.09124209124209126, 0.0, 0.01964701964701965, 0.008658008658008658, 0.004329004329004329, 0.021145521145521148, 0.0, 0.05194805194805196, 0.000999000999000999, 0.0, 0.005827505827505828, 0.00815850815850816, 0.0, 0.0, 0.0, 0.0, 0.0, 0.0, 0.0, 0.0, 0.0] \n",
      "\n",
      "[0.6264507675831663, 0.22754354771437296, 0.18802194407932069, 0.09153543114192489, 0.264532060736081, 0.1609587977818627, 0.07847942654248065, 0.20000859955718966, 0.0, 0.09163427049224358, 0.06464415026155122, 0.12758653088418848, 0.16013168868551642, 0.11991211774883054, 0.0, 0.0, 0.0291784954816745, 0.0, 0.022589137134640006, 0.0291784954816745, 0.0, 0.0, 0.0]\n"
     ]
    }
   ],
   "source": [
    "print(avg_deg, '\\n')\n",
    "print(avg_bet, '\\n')\n",
    "print(avg_eig)"
   ]
  },
  {
   "cell_type": "code",
   "execution_count": 22,
   "metadata": {},
   "outputs": [],
   "source": [
    "# Sort the centrality measures so that the most central nodes are listed first\n",
    "def enum_sort(n, num = None, ret = False):\n",
    "    enum_n = list(enumerate(n))\n",
    "    enum_n.sort(key=lambda x:x[1], reverse = True)\n",
    "    if num == None:\n",
    "        print(enum_n)\n",
    "    else:\n",
    "        print(enum_n[:num])\n",
    "    if ret:\n",
    "        return enum_n"
   ]
  },
  {
   "cell_type": "code",
   "execution_count": 24,
   "metadata": {},
   "outputs": [
    {
     "name": "stdout",
     "output_type": "stream",
     "text": [
      "[(0, 181.0909090909091), (1, 67.54545454545455), (18, 51.0), (4, 26.181818181818183), (15, 26.09090909090909), (13, 24.636363636363637), (16, 16.545454545454547), (2, 15.909090909090908), (6, 14.0), (22, 11.818181818181818), (11, 11.0), (12, 8.454545454545455), (3, 7.909090909090909), (5, 7.454545454545454), (19, 6.363636363636363), (9, 5.0), (14, 4.454545454545454), (7, 3.8181818181818183), (10, 3.727272727272727), (17, 3.090909090909091), (8, 0.18181818181818182), (20, 0.09090909090909091), (21, 0.09090909090909091)]\n",
      "\n",
      "\n",
      "[(0, 0.9065934065934068), (2, 0.09124209124209126), (9, 0.05194805194805196), (1, 0.03296703296703297), (7, 0.021145521145521148), (4, 0.01964701964701965), (5, 0.008658008658008658), (13, 0.00815850815850816), (12, 0.005827505827505828), (6, 0.004329004329004329), (10, 0.000999000999000999), (3, 0.0), (8, 0.0), (11, 0.0), (14, 0.0), (15, 0.0), (16, 0.0), (17, 0.0), (18, 0.0), (19, 0.0), (20, 0.0), (21, 0.0), (22, 0.0)]\n",
      "\n",
      "\n",
      "[(0, 0.6264507675831663), (4, 0.264532060736081), (1, 0.22754354771437296), (7, 0.20000859955718966), (2, 0.18802194407932069), (5, 0.1609587977818627), (12, 0.16013168868551642), (11, 0.12758653088418848), (13, 0.11991211774883054), (9, 0.09163427049224358), (3, 0.09153543114192489), (6, 0.07847942654248065), (10, 0.06464415026155122), (16, 0.0291784954816745), (19, 0.0291784954816745), (18, 0.022589137134640006), (8, 0.0), (14, 0.0), (15, 0.0), (17, 0.0), (20, 0.0), (21, 0.0), (22, 0.0)]\n",
      "1 3 85\n"
     ]
    }
   ],
   "source": [
    "enum_sort(avg_deg)\n",
    "print('\\n')\n",
    "enum_sort(avg_bet)\n",
    "print('\\n')\n",
    "enum_sort(avg_eig)\n",
    "print(important[0], important[1], important[4])"
   ]
  },
  {
   "cell_type": "code",
   "execution_count": 25,
   "metadata": {},
   "outputs": [],
   "source": [
    "# Calculate degree, betweenness centrality, and eigenvector centrality for all nodes\n",
    "all_traits = []\n",
    "for j in range(1, 12):\n",
    "    phase_traits = [[] for i in range(110)]\n",
    "    labels, phase = get_phase(j)\n",
    "    degrees, between, eigen = get_cents(phase)\n",
    "    for i in range(labels.shape[0]):\n",
    "        phase_traits[labels[i] - 1] = ([degrees[i], between[i], eigen[i]])\n",
    "    all_traits.append(phase_traits)"
   ]
  },
  {
   "cell_type": "code",
   "execution_count": 58,
   "metadata": {},
   "outputs": [],
   "source": [
    "# Find the average values for each person over the 11 phases\n",
    "avg_deg = [0 for i in range(110)]\n",
    "avg_bet = [0 for i in range(110)]\n",
    "avg_eig = [0 for i in range(110)]\n",
    "for i in all_traits:\n",
    "    for j in range(len(i)):\n",
    "        try:\n",
    "            avg_deg[j] += i[j][0]\n",
    "            avg_bet[j] += i[j][1]\n",
    "            avg_eig[j] += i[j][2]\n",
    "        except:\n",
    "            pass\n",
    "avg_deg = [i / 11 for i in avg_deg]\n",
    "avg_bet = [i / 11 for i in avg_bet]\n",
    "avg_eig = [i / 11 for i in avg_eig]"
   ]
  },
  {
   "cell_type": "code",
   "execution_count": 59,
   "metadata": {},
   "outputs": [
    {
     "name": "stdout",
     "output_type": "stream",
     "text": [
      "[(0, 181.0909090909091), (2, 67.54545454545455), (11, 51.0), (84, 26.181818181818183), (86, 26.09090909090909), (75, 24.636363636363637), (36, 19.727272727272727), (13, 17.0), (81, 16.545454545454547), (82, 15.909090909090908), (10, 14.0), (15, 11.818181818181818), (18, 11.545454545454545), (4, 11.0), (40, 10.272727272727273), (7, 8.454545454545455), (1, 8.181818181818182), (8, 8.181818181818182), (85, 7.909090909090909), (5, 7.454545454545454)]\n",
      "\n",
      "\n",
      "[(0, 0.9065934065934068), (82, 0.09124209124209126), (88, 0.05194805194805196), (2, 0.03296703296703297), (87, 0.021145521145521148), (84, 0.01964701964701965), (1, 0.01298701298701299), (5, 0.008658008658008658), (75, 0.00815850815850816), (89, 0.00815850815850816), (7, 0.005827505827505828), (47, 0.00482850482850483), (10, 0.004329004329004329), (61, 0.00333000333000333), (17, 0.001998001998001998), (6, 0.000999000999000999), (34, 0.000999000999000999), (54, 0.000999000999000999), (63, 0.000999000999000999), (83, 0.000999000999000999)]\n",
      "\n",
      "\n",
      "[(0, 0.6264507675831663), (84, 0.264532060736081), (2, 0.22754354771437296), (87, 0.20000859955718966), (82, 0.18802194407932069), (1, 0.17163191295028402), (5, 0.1609587977818627), (7, 0.16013168868551642), (4, 0.12758653088418848), (75, 0.11991211774883054), (3, 0.116713981926698), (89, 0.1053228700079933), (88, 0.09163427049224358), (85, 0.09153543114192489), (10, 0.07847942654248065), (83, 0.06464415026155122), (6, 0.062054736611418096), (54, 0.05005490252071396), (12, 0.04376774322251175), (17, 0.041752814078078924)]\n"
     ]
    }
   ],
   "source": [
    "deg_sort = enum_sort(avg_deg, 20, True)\n",
    "print('\\n')\n",
    "bet_sort = enum_sort(avg_bet, 20, True)\n",
    "print('\\n')\n",
    "eig_sort = enum_sort(avg_eig, 20, True)"
   ]
  },
  {
   "cell_type": "code",
   "execution_count": 29,
   "metadata": {},
   "outputs": [
    {
     "name": "stdout",
     "output_type": "stream",
     "text": [
      "(1, 0.01298701298701299)\n",
      "7 \n",
      "\n",
      "(89, 0.00815850815850816)\n",
      "10 \n",
      "\n",
      "(47, 0.00482850482850483)\n",
      "12 \n",
      "\n",
      "(61, 0.00333000333000333)\n",
      "14 \n",
      "\n"
     ]
    }
   ],
   "source": [
    "# pring the most important non-important characters\n",
    "x = 0\n",
    "count = 1\n",
    "important_set = {1, 3, 83, 86, 85, 6, 11, 88, 106, 89, 84, 5, 8, 76, 77, 87, 82, 96, 12, 17, 80, 33, 16}\n",
    "\n",
    "for i in bet_sort:\n",
    "    if (i[0] + 1) not in important_set:\n",
    "        print(i)\n",
    "        x += 1\n",
    "        print(count, '\\n')\n",
    "    count += 1\n",
    "    if x > 3:\n",
    "        break"
   ]
  },
  {
   "cell_type": "code",
   "execution_count": 30,
   "metadata": {},
   "outputs": [
    {
     "data": {
      "text/plain": [
       "<matplotlib.collections.PathCollection at 0x1149664a8>"
      ]
     },
     "execution_count": 30,
     "metadata": {},
     "output_type": "execute_result"
    },
    {
     "data": {
      "image/png": "[encoded data removed]",
      "text/plain": [
       "<matplotlib.figure.Figure at 0x1149c9a90>"
      ]
     },
     "metadata": {},
     "output_type": "display_data"
    }
   ],
   "source": [
    "# Plot of degree over the phases\n",
    "deg_time = []\n",
    "for i in all_traits:\n",
    "    total_deg = 0\n",
    "    for j in range(len(i)):\n",
    "        try:\n",
    "            total_deg += i[j][0]\n",
    "        except:\n",
    "            pass\n",
    "    deg_time.append(total_deg)\n",
    "plt.plot(list(range(1, 12)), deg_time)\n",
    "plt.title('Sum of Degrees through Phases')\n",
    "plt.xlabel('Phase Number')\n",
    "plt.ylabel('Total Degree over all Nodes')\n",
    "pts = [4, 6, 7, 8, 9, 10, 11]\n",
    "pts_y = [deg_time[i - 1] for i in pts]\n",
    "plt.scatter(pts, pts_y)"
   ]
  },
  {
   "cell_type": "code",
   "execution_count": 64,
   "metadata": {},
   "outputs": [],
   "source": [
    "# Plot of the boss (id = 1) over time\n",
    "bbet = []\n",
    "beig = []\n",
    "bdeg = []\n",
    "for i in all_traits:\n",
    "    try:\n",
    "        bdeg.append(i[0][0])\n",
    "        bbet.append(i[0][1])\n",
    "        beig.append(i[0][2])\n",
    "    except:\n",
    "        bdeg.append(0)\n",
    "        bbet.append(0)\n",
    "        beig.append(0)\n",
    "for i in range(len(deg_time)):\n",
    "    bdeg[i] /= deg_time[i];\n",
    "    "
   ]
  },
  {
   "cell_type": "code",
   "execution_count": 65,
   "metadata": {},
   "outputs": [
    {
     "data": {
      "text/plain": [
       "[<matplotlib.lines.Line2D at 0x1166f0668>]"
      ]
     },
     "execution_count": 65,
     "metadata": {},
     "output_type": "execute_result"
    },
    {
     "data": {
      "image/png": "[encoded data removed]",
      "text/plain": [
       "<matplotlib.figure.Figure at 0x1165c2f98>"
      ]
     },
     "metadata": {},
     "output_type": "display_data"
    }
   ],
   "source": [
    "plt.subplot(221)\n",
    "plt.title(\"Betweenness Centrality\")\n",
    "plt.plot(list(range(1, 12)), bbet)\n",
    "plt.subplot(222)\n",
    "plt.title(\"Eigenvector Centrality\")\n",
    "plt.plot(list(range(1, 12)), beig)\n",
    "plt.subplot(223)\n",
    "plt.subplots_adjust(top = 1.5)\n",
    "plt.title(\"Degree as fraction of Total Degree\")\n",
    "plt.plot(list(range(1, 12)), bdeg)\n"
   ]
  },
  {
   "cell_type": "code",
   "execution_count": null,
   "metadata": {},
   "outputs": [],
   "source": [
    "for i in range(1, 12):\n",
    "    p = get_phase(i)\n",
    "    phase_und = p[1].T + p[1]\n",
    "    netx_graph = nx.from_numpy_matrix(phase_und)\n",
    "    plt.figure(figsize=(7,7))\n",
    "    plt.subplot(23 * 10 + i - 6)\n",
    "    nx.draw(netx_graph)\n",
    "plt.show()"
   ]
  }
 ],
 "metadata": {
  "kernelspec": {
   "display_name": "Python 3",
   "language": "python",
   "name": "python3"
  },
  "language_info": {
   "codemirror_mode": {
    "name": "ipython",
    "version": 3
   },
   "file_extension": ".py",
   "mimetype": "text/x-python",
   "name": "python",
   "nbconvert_exporter": "python",
   "pygments_lexer": "ipython3",
   "version": "3.6.4"
  }
 },
 "nbformat": 4,
 "nbformat_minor": 2
}
