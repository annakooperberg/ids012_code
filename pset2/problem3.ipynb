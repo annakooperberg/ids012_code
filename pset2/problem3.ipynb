{
 "cells": [
  {
   "cell_type": "markdown",
   "metadata": {},
   "source": [
    "Analysis of network of co-offenders"
   ]
  },
  {
   "cell_type": "code",
   "execution_count": 1,
   "metadata": {},
   "outputs": [],
   "source": [
    "from scipy import sparse\n",
    "import numpy as np\n",
    "import matplotlib.pyplot as plt\n",
    "import pandas as pd\n",
    "import networkx as nx"
   ]
  },
  {
   "cell_type": "code",
   "execution_count": 2,
   "metadata": {},
   "outputs": [],
   "source": [
    "filename = '/Volumes/My Passport for Mac/IDS/pset2/problem_set_2_data_and_materials/Cooffending.csv'"
   ]
  },
  {
   "cell_type": "code",
   "execution_count": 3,
   "metadata": {},
   "outputs": [],
   "source": [
    "data = pd.read_csv(filename).to_numpy()"
   ]
  },
  {
   "cell_type": "code",
   "execution_count": 4,
   "metadata": {},
   "outputs": [
    {
     "name": "stdout",
     "output_type": "stream",
     "text": [
      "(1280459, 13)\n"
     ]
    }
   ],
   "source": [
    "print(data.shape)"
   ]
  },
  {
   "cell_type": "code",
   "execution_count": 5,
   "metadata": {},
   "outputs": [],
   "source": [
    "crimes = {}\n",
    "ids = {}"
   ]
  },
  {
   "cell_type": "code",
   "execution_count": 6,
   "metadata": {},
   "outputs": [],
   "source": [
    "for i in range(data.shape[0]):\n",
    "    try:\n",
    "        incidents = ids[data[i][0]]\n",
    "    except:\n",
    "        incidents = set()\n",
    "    incidents.add(data[i][2])\n",
    "    ids[data[i][0]] = incidents\n",
    "    \n",
    "    try:\n",
    "        associated = crimes[data[i][2]]\n",
    "    except:\n",
    "        associated = set()    \n",
    "    associated.add(data[i][0])\n",
    "    crimes[data[i][2]] = associated"
   ]
  },
  {
   "cell_type": "code",
   "execution_count": 7,
   "metadata": {},
   "outputs": [
    {
     "name": "stdout",
     "output_type": "stream",
     "text": [
      "539593\n"
     ]
    }
   ],
   "source": [
    "# total offenders\n",
    "print(len(ids))"
   ]
  },
  {
   "cell_type": "code",
   "execution_count": 8,
   "metadata": {},
   "outputs": [
    {
     "name": "stdout",
     "output_type": "stream",
     "text": [
      "418434\n"
     ]
    }
   ],
   "source": [
    "# number of solo offenders\n",
    "\n",
    "solo = set()\n",
    "for i in ids:\n",
    "    solo_offender = True\n",
    "    for incident in ids[i]:\n",
    "        if len(crimes[incident]) > 1:\n",
    "            solo_offender = False\n",
    "    if solo_offender:\n",
    "        solo.add(i)\n",
    "print(len(solo))\n",
    "        "
   ]
  },
  {
   "cell_type": "code",
   "execution_count": 9,
   "metadata": {},
   "outputs": [
    {
     "name": "stdout",
     "output_type": "stream",
     "text": [
      "66102\n"
     ]
    }
   ],
   "source": [
    "# number of degree 1 offenders\n",
    "\n",
    "deg_one = set()\n",
    "for i in ids:\n",
    "    neighbors = set()\n",
    "    for incident in ids[i]:\n",
    "        for j in crimes[incident]:\n",
    "            if j != i:\n",
    "                neighbors.add(j)\n",
    "    if len(neighbors) == 1:\n",
    "        deg_one.add(i)\n",
    "print(len(deg_one))"
   ]
  },
  {
   "cell_type": "code",
   "execution_count": 10,
   "metadata": {},
   "outputs": [],
   "source": [
    "#don't rerun, removes solo offenders, deg one offenders\n",
    "for i in solo:\n",
    "    del ids[i]\n",
    "for i in deg_one:\n",
    "    del ids[i]\n",
    "\n",
    "crimeset = set()\n",
    "for i in crimes:\n",
    "    crimeset.add(i)\n",
    "for c in crimeset:\n",
    "    none = True\n",
    "    for i in crimes[c]:\n",
    "        if i in ids:\n",
    "            none = False\n",
    "    if none:\n",
    "        del crimes[c]"
   ]
  },
  {
   "cell_type": "code",
   "execution_count": 11,
   "metadata": {},
   "outputs": [
    {
     "name": "stdout",
     "output_type": "stream",
     "text": [
      "55057\n"
     ]
    }
   ],
   "source": [
    "# number of nodes\n",
    "print(len(ids))"
   ]
  },
  {
   "cell_type": "code",
   "execution_count": 12,
   "metadata": {},
   "outputs": [],
   "source": [
    "# Remove crimes w/ one person\n",
    "keys = set()\n",
    "for i in crimes:\n",
    "    keys.add(i)\n",
    "for k in keys:\n",
    "    if len(crimes[k]) == 1:\n",
    "        del crimes[k]"
   ]
  },
  {
   "cell_type": "code",
   "execution_count": 13,
   "metadata": {},
   "outputs": [],
   "source": [
    "# Create edge set\n",
    "edges = set()\n",
    "for i in crimes:\n",
    "    for j in crimes[i]:\n",
    "        for k in crimes[i]:\n",
    "            if j < k:\n",
    "                edges.add((j, k))"
   ]
  },
  {
   "cell_type": "code",
   "execution_count": 14,
   "metadata": {},
   "outputs": [
    {
     "name": "stdout",
     "output_type": "stream",
     "text": [
      "153278\n"
     ]
    }
   ],
   "source": [
    "# number of edges\n",
    "print(len(edges))"
   ]
  },
  {
   "cell_type": "code",
   "execution_count": 15,
   "metadata": {},
   "outputs": [],
   "source": [
    "# prune extra crimes\n",
    "for i in ids:\n",
    "    cr = set()\n",
    "    for c in ids[i]:\n",
    "        if c in crimes:\n",
    "            cr.add(c)\n",
    "    ids[i] = cr"
   ]
  },
  {
   "cell_type": "code",
   "execution_count": 16,
   "metadata": {},
   "outputs": [],
   "source": [
    "# degree distribution\n",
    "degs = []\n",
    "for i in ids:\n",
    "    cos = set()\n",
    "    for crime in ids[i]:\n",
    "        for co in crimes[crime]:\n",
    "            cos.add(co)\n",
    "    degs.append(len(cos) - 1)"
   ]
  },
  {
   "cell_type": "code",
   "execution_count": 17,
   "metadata": {},
   "outputs": [
    {
     "data": {
      "text/plain": [
       "Text(0.5,1,'Degree Distribution of co-offenders')"
      ]
     },
     "execution_count": 17,
     "metadata": {},
     "output_type": "execute_result"
    },
    {
     "data": {
      "image/png": "[encoded data removed]",
      "text/plain": [
       "<matplotlib.figure.Figure at 0x1148cb320>"
      ]
     },
     "metadata": {},
     "output_type": "display_data"
    }
   ],
   "source": [
    "_, _, _ = plt.hist(degs, bins = 50)\n",
    "plt.yscale(\"log\")\n",
    "plt.title(\"Degree Distribution of co-offenders\")\n"
   ]
  },
  {
   "cell_type": "code",
   "execution_count": 18,
   "metadata": {},
   "outputs": [
    {
     "name": "stdout",
     "output_type": "stream",
     "text": [
      "55057\n"
     ]
    }
   ],
   "source": [
    "print(len(ids))"
   ]
  },
  {
   "cell_type": "code",
   "execution_count": 21,
   "metadata": {},
   "outputs": [],
   "source": [
    "visit_ids = {}\n",
    "for i in ids:\n",
    "    visit_ids[i] = 0"
   ]
  },
  {
   "cell_type": "code",
   "execution_count": 22,
   "metadata": {},
   "outputs": [
    {
     "name": "stdout",
     "output_type": "stream",
     "text": [
      "10963\n"
     ]
    }
   ],
   "source": [
    "# Find connected components\n",
    "# Get the neighbors of a specific node\n",
    "def get_neighbors(i):\n",
    "    cos = set()\n",
    "    for crime in ids[i]:\n",
    "        for co in crimes[crime]:\n",
    "            if co != i:\n",
    "                cos.add(co)\n",
    "    return cos\n",
    "\n",
    "# Find all connected nodes using a recursive DFS\n",
    "def recursivelyMark(i, n):\n",
    "    if visit_ids[i] != 0:\n",
    "        return\n",
    "    visit_ids[i] = n\n",
    "    for j in get_neighbors(i):\n",
    "        if j in ids:\n",
    "            recursivelyMark(j, n)\n",
    "\n",
    "componentsCount = 0\n",
    "n = 1\n",
    "for i in ids:\n",
    "    if not visit_ids[i]:\n",
    "        componentsCount += 1\n",
    "        recursivelyMark(i, n)\n",
    "        n += 1\n",
    "print(componentsCount)"
   ]
  },
  {
   "cell_type": "code",
   "execution_count": 23,
   "metadata": {},
   "outputs": [],
   "source": [
    "# Find largest connected components\n",
    "components = [0 for i in range(10963)]\n",
    "for i in visit_ids:\n",
    "    components[visit_ids[i] - 1] += 1\n",
    "ecomp = list(enumerate(components))\n",
    "ecomp.sort(key=lambda x:x[1], reverse = True)"
   ]
  },
  {
   "cell_type": "code",
   "execution_count": 24,
   "metadata": {},
   "outputs": [
    {
     "name": "stdout",
     "output_type": "stream",
     "text": [
      "[(0, 15134), (459, 296), (1187, 87), (89, 65), (2033, 65), (7034, 54), (8362, 50), (461, 49), (1588, 48), (218, 47)]\n"
     ]
    }
   ],
   "source": [
    "print(ecomp[:10])"
   ]
  },
  {
   "cell_type": "code",
   "execution_count": 25,
   "metadata": {},
   "outputs": [],
   "source": [
    "largest = {}\n",
    "for i in visit_ids:\n",
    "    if visit_ids[i] == 1:\n",
    "        largest[i] = ids[i]"
   ]
  },
  {
   "cell_type": "code",
   "execution_count": 26,
   "metadata": {},
   "outputs": [],
   "source": [
    "# create degree distribution for largest component\n",
    "largest_degrees = []\n",
    "for i in largest:\n",
    "    count = 0\n",
    "    for j in get_neighbors(i):\n",
    "        if j in largest:\n",
    "            count += 1\n",
    "    largest_degrees.append(count)"
   ]
  },
  {
   "cell_type": "code",
   "execution_count": 27,
   "metadata": {},
   "outputs": [
    {
     "data": {
      "text/plain": [
       "Text(0.5,1,'Degree Distribution of Co-offenders in Largest Connected Component')"
      ]
     },
     "execution_count": 27,
     "metadata": {},
     "output_type": "execute_result"
    },
    {
     "data": {
      "image/png": "[encoded data removed]",
      "text/plain": [
       "<matplotlib.figure.Figure at 0x11480af98>"
      ]
     },
     "metadata": {},
     "output_type": "display_data"
    }
   ],
   "source": [
    "_, _, _ = plt.hist(largest_degrees, bins = 50)\n",
    "plt.yscale(\"log\")\n",
    "plt.title(\"Degree Distribution of Co-offenders in Largest Connected Component\")\n"
   ]
  },
  {
   "cell_type": "code",
   "execution_count": 28,
   "metadata": {},
   "outputs": [
    {
     "name": "stdout",
     "output_type": "stream",
     "text": [
      "27849\n"
     ]
    }
   ],
   "source": [
    "largest_crime = 0\n",
    "num_people = 0\n",
    "for i in crimes:\n",
    "    if len(crimes[i]) > num_people:\n",
    "        largest_crime = i\n",
    "        num_people = len(crimes[i])\n",
    "print(largest_crime)"
   ]
  },
  {
   "cell_type": "code",
   "execution_count": 29,
   "metadata": {},
   "outputs": [
    {
     "name": "stdout",
     "output_type": "stream",
     "text": [
      "1\n"
     ]
    }
   ],
   "source": [
    "# Same code as above, fixed\n",
    "def get_neighbors(i):\n",
    "    cos = set()\n",
    "    for crime in ids[i]:\n",
    "        for co in crimes[crime]:\n",
    "            if co != i:\n",
    "                cos.add(co)\n",
    "    return cos\n",
    "\n",
    "def recursivelyMark(i, n):\n",
    "    if visit_ids[i] != 0:\n",
    "        return\n",
    "    visit_ids[i] = n\n",
    "    for j in get_neighbors(i):\n",
    "        if j in largest:\n",
    "            recursivelyMark(j, n)\n",
    "\n",
    "visit_ids = {}\n",
    "for i in largest:\n",
    "    visit_ids[i] = 0\n",
    "componentsCount = 0\n",
    "n = 1\n",
    "for i in largest:\n",
    "    if visit_ids[i] == 0:\n",
    "        componentsCount += 1\n",
    "        recursivelyMark(i, n)\n",
    "        n += 1\n",
    "print(componentsCount)"
   ]
  },
  {
   "cell_type": "code",
   "execution_count": 30,
   "metadata": {},
   "outputs": [],
   "source": [
    "# Convert largest component to a graph\n",
    "id_to_mat = {}\n",
    "mat_to_id = []\n",
    "c = 0\n",
    "for i in largest:\n",
    "    mat_to_id.append(i)\n",
    "    id_to_mat[i] = c\n",
    "    c += 1\n",
    "for i in range(len(mat_to_id)):\n",
    "    assert i == id_to_mat[mat_to_id[i]]\n",
    "\n",
    "dense = np.zeros((len(largest), len(largest)))\n",
    "for i in largest:\n",
    "    for j in get_neighbors(i):\n",
    "        if j in largest:\n",
    "            x = id_to_mat[i]\n",
    "            y = id_to_mat[j]\n",
    "            dense[x, y] = 1\n",
    "            dense[y, x] = 1\n"
   ]
  },
  {
   "cell_type": "code",
   "execution_count": 31,
   "metadata": {},
   "outputs": [],
   "source": [
    "graph = nx.from_numpy_matrix(dense)"
   ]
  },
  {
   "cell_type": "code",
   "execution_count": 75,
   "metadata": {},
   "outputs": [
    {
     "name": "stdout",
     "output_type": "stream",
     "text": [
      "46\n"
     ]
    }
   ],
   "source": [
    "print(nx.diameter(graph))"
   ]
  },
  {
   "cell_type": "code",
   "execution_count": 32,
   "metadata": {},
   "outputs": [
    {
     "name": "stdout",
     "output_type": "stream",
     "text": [
      "0.0005745802922644975\n"
     ]
    }
   ],
   "source": [
    "print(nx.density(graph))"
   ]
  },
  {
   "cell_type": "code",
   "execution_count": 33,
   "metadata": {},
   "outputs": [
    {
     "name": "stdout",
     "output_type": "stream",
     "text": [
      "17.555947817287834\n"
     ]
    }
   ],
   "source": [
    "print(nx.average_shortest_path_length(graph))"
   ]
  },
  {
   "cell_type": "code",
   "execution_count": null,
   "metadata": {},
   "outputs": [],
   "source": []
  }
 ],
 "metadata": {
  "kernelspec": {
   "display_name": "Python 3",
   "language": "python",
   "name": "python3"
  },
  "language_info": {
   "codemirror_mode": {
    "name": "ipython",
    "version": 3
   },
   "file_extension": ".py",
   "mimetype": "text/x-python",
   "name": "python",
   "nbconvert_exporter": "python",
   "pygments_lexer": "ipython3",
   "version": "3.6.4"
  }
 },
 "nbformat": 4,
 "nbformat_minor": 2
}
