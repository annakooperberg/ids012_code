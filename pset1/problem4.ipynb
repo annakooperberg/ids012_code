{
 "cells": [
  {
   "cell_type": "markdown",
   "metadata": {},
   "source": [
    "Using a t-statistic to find statistically significant gene expressions with multiple hypothesis testing"
   ]
  },
  {
   "cell_type": "code",
   "execution_count": 55,
   "metadata": {},
   "outputs": [],
   "source": [
    "import csv\n",
    "import numpy as np\n",
    "from scipy import stats\n",
    "import matplotlib.pyplot as plt\n",
    "from statsmodels.stats.multitest import multipletests"
   ]
  },
  {
   "cell_type": "markdown",
   "metadata": {},
   "source": [
    "   golub.csv: matrix of gene expression levels for the 38 tumor mRNA\n",
    "          samples, rows correspond to genes (3051 genes) and columns to\n",
    "          mRNA samples.\n",
    "\n",
    "golub_cl.csv: numeric vector indicating the tumor class, 27 acute\n",
    "          lymphoblastic leukemia (ALL) cases (code 0) and 11 acute\n",
    "          myeloid leukemia (AML) cases (code 1).\n",
    "\n",
    "golub_gnames.csv: a matrix containing the names of the 3051 genes for the\n",
    "          expression matrix ‘golub’. The three columns correspond to\n",
    "          the gene ‘index’, ‘ID’, and ‘Name’, respectively.\n",
    "~                                                              "
   ]
  },
  {
   "cell_type": "code",
   "execution_count": 3,
   "metadata": {},
   "outputs": [],
   "source": [
    "filename = \"data_and_materials/golub_data/golub.csv\""
   ]
  },
  {
   "cell_type": "code",
   "execution_count": 4,
   "metadata": {},
   "outputs": [],
   "source": [
    "NUM_GENES = 3051\n",
    "NUM_ALL = 27\n",
    "NUM_AML = 11\n",
    "N = NUM_ALL + NUM_AML"
   ]
  },
  {
   "cell_type": "code",
   "execution_count": 5,
   "metadata": {},
   "outputs": [],
   "source": [
    "with open(filename, newline='') as csvfile:\n",
    "    file_reader = csv.reader(csvfile, delimiter=',')\n",
    "    golub_all = []\n",
    "    golub_aml = []\n",
    "    count = 0\n",
    "    first_row = True\n",
    "    for i in file_reader:\n",
    "        if first_row:\n",
    "            first_row = False\n",
    "            continue\n",
    "        golub_all.append(i[1:NUM_ALL + 1])\n",
    "        golub_aml.append(i[NUM_ALL + 1:])\n"
   ]
  },
  {
   "cell_type": "code",
   "execution_count": 7,
   "metadata": {},
   "outputs": [],
   "source": [
    "# Convert data to floats\n",
    "all_data = []\n",
    "for i in golub_all:\n",
    "    all_data.append([float(j) for j in i])\n",
    "aml_data = []\n",
    "for i in golub_aml:\n",
    "    aml_data.append([float(j) for j in i])"
   ]
  },
  {
   "cell_type": "markdown",
   "metadata": {},
   "source": [
    "Null hypothesis is that all gene expression levels are picked from the same normal distribution. Use a t-statistic to accept or reject the hypothesis"
   ]
  },
  {
   "cell_type": "code",
   "execution_count": 43,
   "metadata": {},
   "outputs": [],
   "source": [
    "# Calculate variances of distribution of patients for each gene\n",
    "p_vals = []\n",
    "all_vars = []\n",
    "aml_vars = []\n",
    "for i in range(NUM_GENES):\n",
    "    all_mean = sum(all_data[i]) / NUM_ALL\n",
    "    aml_mean = sum(aml_data[i]) / NUM_AML\n",
    "    all_var = np.sum(np.square(np.asarray(all_data[i]) - all_mean))\n",
    "    aml_var = np.sum(np.square(np.asarray(aml_data[i]) - aml_mean))\n",
    "    all_vars.append(all_var / (NUM_ALL - 1))\n",
    "    aml_vars.append(aml_var / (NUM_AML - 1))\n",
    "    deg_freedom = NUM_ALL + NUM_AML - 2\n",
    "    pooled_sample_var = (all_var + aml_var) / (deg_freedom)\n",
    "    t_stat = (all_mean - aml_mean) / (np.sqrt(pooled_sample_var * (1/NUM_ALL + 1/NUM_AML)))\n",
    "    cdf = stats.t.cdf(t_stat, deg_freedom)\n",
    "    if (cdf < 0.5):\n",
    "        p_vals.append(2 * cdf)\n",
    "    else:\n",
    "        p_vals.append(2 * (1 - cdf))"
   ]
  },
  {
   "cell_type": "code",
   "execution_count": 47,
   "metadata": {},
   "outputs": [
    {
     "name": "stdout",
     "output_type": "stream",
     "text": [
      "correlation:  [[1.         0.39612686]\n",
      " [0.39612686 1.        ]]\n"
     ]
    },
    {
     "data": {
      "image/png": "[encoded data removed]",
      "text/plain": [
       "<matplotlib.figure.Figure at 0x1141ec278>"
      ]
     },
     "metadata": {},
     "output_type": "display_data"
    }
   ],
   "source": [
    "print(\"correlation: \", np.corrcoef(all_vars, aml_vars))\n",
    "plt.scatter(all_vars, aml_vars)\n",
    "plt.title(\"sigma^2 of Gene Expressions of AML and ALL\")\n",
    "plt.xlabel(\"ALL sigma^2\")\n",
    "plt.ylabel(\"AML sigma^2\")\n",
    "plt.show()"
   ]
  },
  {
   "cell_type": "markdown",
   "metadata": {},
   "source": [
    "There is no obvious relationship between variances, so we will do a t-test without equal variances"
   ]
  },
  {
   "cell_type": "code",
   "execution_count": 51,
   "metadata": {},
   "outputs": [],
   "source": [
    "p_vals_diff_var = []\n",
    "for i in range(NUM_GENES):\n",
    "    p_vals_diff_var.append(stats.ttest_ind(all_data[i], aml_data[i], equal_var = False)[1])\n",
    "p_vals_enum = list(enumerate(p_vals_diff_var))\n",
    "p_vals_enum.sort(key = lambda x: x[1])"
   ]
  },
  {
   "cell_type": "code",
   "execution_count": 56,
   "metadata": {},
   "outputs": [
    {
     "name": "stdout",
     "output_type": "stream",
     "text": [
      "1078\n"
     ]
    }
   ],
   "source": [
    "# Count number of significant if alpha = 0.05\n",
    "count = 0\n",
    "for i in p_vals_enum:\n",
    "    if i[1] < 0.05:\n",
    "        count += 1\n",
    "    else:\n",
    "        break\n",
    "print(count)"
   ]
  },
  {
   "cell_type": "code",
   "execution_count": 61,
   "metadata": {},
   "outputs": [],
   "source": [
    "# Multiple hypothesis test methods\n",
    "reject, pvals_corrected, alphacSidak, alphacBonf = multipletests(p_vals_diff_var, alpha = 0.05, method = 'fdr_bh')\n",
    "count = 0\n",
    "for ind, i in enumerate(reject):\n",
    "    if i:\n",
    "        count += 1\n",
    "print(count)"
   ]
  }
 ],
 "metadata": {
  "kernelspec": {
   "display_name": "Python 3",
   "language": "python",
   "name": "python3"
  },
  "language_info": {
   "codemirror_mode": {
    "name": "ipython",
    "version": 3
   },
   "file_extension": ".py",
   "mimetype": "text/x-python",
   "name": "python",
   "nbconvert_exporter": "python",
   "pygments_lexer": "ipython3",
   "version": "3.6.4"
  }
 },
 "nbformat": 4,
 "nbformat_minor": 2
}
