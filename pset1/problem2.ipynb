{
 "cells": [
  {
   "cell_type": "markdown",
   "metadata": {},
   "source": [
    "Likelihood ratio test using Poisson distributions"
   ]
  },
  {
   "cell_type": "code",
   "execution_count": 1,
   "metadata": {},
   "outputs": [],
   "source": [
    "import csv\n",
    "from scipy import stats\n",
    "import numpy as np\n",
    "import matplotlib.pyplot as plt"
   ]
  },
  {
   "cell_type": "code",
   "execution_count": 2,
   "metadata": {},
   "outputs": [],
   "source": [
    "filename = \"data_and_materials/gamma-ray.csv\""
   ]
  },
  {
   "cell_type": "code",
   "execution_count": 3,
   "metadata": {},
   "outputs": [],
   "source": [
    "# Create list gamma_data with time interval (secs) and number of gamma rays\n",
    "with open(filename, newline='') as csvfile:\n",
    "    file_reader = csv.reader(csvfile, delimiter=',')\n",
    "    gamma_data = []\n",
    "    first_row = True\n",
    "    for i in file_reader:\n",
    "        if first_row:\n",
    "            first_row = False\n",
    "            continue\n",
    "        gamma_data.append([float(i[0]), int(round(float(i[1])))])"
   ]
  },
  {
   "cell_type": "code",
   "execution_count": 5,
   "metadata": {},
   "outputs": [],
   "source": [
    "# Calculate the lambda coefficient for the mle null hypothesis\n",
    "total_rays = 0\n",
    "total_time = 0\n",
    "for i in gamma_data:\n",
    "    total_rays += i[1]\n",
    "    total_time += i[0]\n",
    "null_mle_lambda = total_rays/total_time"
   ]
  },
  {
   "cell_type": "code",
   "execution_count": 6,
   "metadata": {},
   "outputs": [],
   "source": [
    "# Returns pdf for some interval length, number of rays, and coefficient\n",
    "def possion_time_interval(interval, num_rays, mu):\n",
    "    return stats.poisson.pmf(num_rays, mu * interval)"
   ]
  },
  {
   "cell_type": "code",
   "execution_count": 7,
   "metadata": {},
   "outputs": [],
   "source": [
    "# Calculate the lambda coefficient for the mle alternative hypothesis\n",
    "alternative_mle_lambdas = []\n",
    "for i in gamma_data:\n",
    "    alternative_mle_lambdas.append(i[1]/i[0])"
   ]
  },
  {
   "cell_type": "code",
   "execution_count": 8,
   "metadata": {},
   "outputs": [],
   "source": [
    "# Calculate likelihood ratio\n",
    "likelihood_ratio_top = 1\n",
    "likelihood_ratio_bottom = 1\n",
    "for i, e in enumerate(gamma_data):\n",
    "    likelihood_ratio_top *= possion_time_interval(e[0], e[1], null_mle_lambda)\n",
    "    likelihood_ratio_bottom *= possion_time_interval(e[0], e[1], alternative_mle_lambdas[i])\n",
    "    \n",
    "likelihood_ratio = likelihood_ratio_top / likelihood_ratio_bottom"
   ]
  },
  {
   "cell_type": "code",
   "execution_count": 9,
   "metadata": {},
   "outputs": [
    {
     "name": "stdout",
     "output_type": "stream",
     "text": [
      "2.1393380820958015e-23\n"
     ]
    }
   ],
   "source": [
    "print(likelihood_ratio)"
   ]
  },
  {
   "cell_type": "code",
   "execution_count": 10,
   "metadata": {},
   "outputs": [
    {
     "name": "stdout",
     "output_type": "stream",
     "text": [
      "104.39792133021314\n",
      "0.33576662402509894\n"
     ]
    }
   ],
   "source": [
    "# Compare to Chi squared distribution with 99 degrees of freedom\n",
    "chi_sq = -2 * np.log(likelihood_ratio)\n",
    "print(chi_sq)\n",
    "p_val = 1 - stats.chi2.cdf(chi_sq, 99)\n",
    "print(p_val)"
   ]
  },
  {
   "cell_type": "code",
   "execution_count": 11,
   "metadata": {},
   "outputs": [
    {
     "name": "stdout",
     "output_type": "stream",
     "text": [
      "123.2\n"
     ]
    }
   ],
   "source": [
    "# Calculate the minimum value that would be \"statistically significant\n",
    "alpha_reg = round(stats.chi2.ppf(0.95, 99), 1)\n",
    "print(alpha_reg)"
   ]
  },
  {
   "cell_type": "code",
   "execution_count": 13,
   "metadata": {},
   "outputs": [
    {
     "name": "stderr",
     "output_type": "stream",
     "text": [
      "/Library/Frameworks/Python.framework/Versions/3.6/lib/python3.6/site-packages/ipykernel_launcher.py:1: DeprecationWarning: object of type <class 'numpy.float64'> cannot be safely interpreted as an integer.\n",
      "  \"\"\"Entry point for launching an IPython kernel.\n",
      "/Library/Frameworks/Python.framework/Versions/3.6/lib/python3.6/site-packages/ipykernel_launcher.py:4: DeprecationWarning: object of type <class 'numpy.float64'> cannot be safely interpreted as an integer.\n",
      "  after removing the cwd from sys.path.\n"
     ]
    }
   ],
   "source": [
    "x_colored = np.linspace(alpha_reg, 150, 10*(150 - alpha_reg) + 1)\n",
    "y_colored = stats.chi2.pdf(x_colored, 99)\n",
    "\n",
    "x_colored2 = np.linspace(chi_sq, 150, 10*(150 - chi_sq) + 1)\n",
    "y_colored2 = stats.chi2.pdf(x_colored2, 99)"
   ]
  },
  {
   "cell_type": "code",
   "execution_count": 16,
   "metadata": {},
   "outputs": [
    {
     "data": {
      "image/png": "[encoded data removed]",
      "text/plain": [
       "<matplotlib.figure.Figure at 0x112438cf8>"
      ]
     },
     "metadata": {},
     "output_type": "display_data"
    }
   ],
   "source": [
    "x = np.linspace(50, 150, 1001)\n",
    "y = stats.chi2.pdf(x, 99)\n",
    "plt.scatter(chi_sq, stats.chi2.pdf(chi_sq, 99), color = 'r')\n",
    "plt.fill_between(x_colored2, y_colored2, 0, alpha=0.25, color = 'r')\n",
    "plt.fill_between(x_colored, y_colored, 0, alpha=0.6)\n",
    "plt.plot(x, y)\n",
    "plt.title(\"Chi-squared distribution, k = 99\\nWith Test Statistic\")\n",
    "plt.ylabel(\"f(x)\")\n",
    "plt.xlabel(\"x\")\n",
    "plt.show()"
   ]
  }
 ],
 "metadata": {
  "kernelspec": {
   "display_name": "Python 3",
   "language": "python",
   "name": "python3"
  },
  "language_info": {
   "codemirror_mode": {
    "name": "ipython",
    "version": 3
   },
   "file_extension": ".py",
   "mimetype": "text/x-python",
   "name": "python",
   "nbconvert_exporter": "python",
   "pygments_lexer": "ipython3",
   "version": "3.6.4"
  }
 },
 "nbformat": 4,
 "nbformat_minor": 2
}
